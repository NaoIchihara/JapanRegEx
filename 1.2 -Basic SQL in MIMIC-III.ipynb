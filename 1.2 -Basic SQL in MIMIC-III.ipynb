{
 "cells": [
  {
   "cell_type": "markdown",
   "metadata": {},
   "source": [
    "# Workshop 1 <br> Gaining Clinical Insight from Text\n",
    "## 1.2 - Basic SQL - in MIMIC-III\n",
    "\n",
    "In this section, we will look at a few examples of SQL searchs of structured data.  We will be using SQLite in Firefox ESR.  Please refer to **0.0 - Installation of SQLite** for installation instructions.\n",
    "<br>\n",
    "Of note, different versions of SQL may have slightly different syntax."
   ]
  },
  {
   "cell_type": "markdown",
   "metadata": {},
   "source": [
    "## Quick Review of SQL Commands\n",
    "* SQL is the language that is used for getting information from databases\n",
    "* We will just go over the very basics during this tutorial\n",
    "<br>\n",
    "```SQL\n",
    "SELECT <list of items>\n",
    "FROM <specific table>\n",
    "```\n",
    "<br>\n",
    "We will take a look at the table microbiologyevents.  This table has fluid culture results from patients in the ICU.  This commands selects all columns from the table microbiologyevents.  <br>\n",
    "```SQL\n",
    "SELECT *\n",
    "FROM microbiologyevents\n",
    "```\n",
    "You can also get the same results by running:\n",
    "```SQL\n",
    "SELECT subject_id, charttime, spec_itemid, spec_type_desc, org_itemid, org_name, isolate_num, ab_itemid, ab_name, dilution_text, dilution_comparison, dilution_value, interpretation\n",
    "FROM microbiologyevents\n",
    "```\n"
   ]
  },
  {
   "cell_type": "markdown",
   "metadata": {},
   "source": [
    "## Exercise 1:"
   ]
  },
  {
   "cell_type": "markdown",
   "metadata": {},
   "source": [
    "1. Print out all columns in the creatinine table."
   ]
  },
  {
   "cell_type": "markdown",
   "metadata": {},
   "source": [
    "Click here for answer:\n",
    "<input id=\"height\" name=\"answer\" type=\"hidden\" \n",
    "value=\"\n",
    "\n",
    "SELECT *\n",
    "FROM creatinines\n",
    "\n",
    "\">"
   ]
  },
  {
   "cell_type": "markdown",
   "metadata": {},
   "source": [
    "2. Select only patients with admission creatinines greater than 2."
   ]
  },
  {
   "cell_type": "markdown",
   "metadata": {},
   "source": [
    "```SQL\n",
    "SELECT *\n",
    "FROM creatinines\n",
    "WHERE admcreat > 2\n",
    "```"
   ]
  },
  {
   "cell_type": "markdown",
   "metadata": {},
   "source": [
    "3. How do I select only patients with creatinines at 48 hours that are higher than creatinines at admission?"
   ]
  },
  {
   "cell_type": "markdown",
   "metadata": {},
   "source": [
    "Click here for answer:\n",
    "<input id=\"height\" name=\"answer\" type=\"hidden\" \n",
    "value=\"\n",
    "\n",
    "SELECT *\n",
    "FROM creatinines\n",
    "WHERE highcreat48hr > admcreat\n",
    "\n",
    "\">"
   ]
  },
  {
   "cell_type": "markdown",
   "metadata": {},
   "source": [
    "4. You can even create additional columns.\n",
    "Ex:\n",
    "```SQL\n",
    "SELECT *\n",
    "  , CASE WHEN highcreat48hr > admcreat THEN 1\n",
    "  ELSE 0\n",
    "  END\n",
    "FROM creatinines\n",
    "```"
   ]
  },
  {
   "cell_type": "code",
   "execution_count": null,
   "metadata": {},
   "outputs": [],
   "source": []
  }
 ],
 "metadata": {
  "kernelspec": {
   "display_name": "Python 3",
   "language": "python",
   "name": "python3"
  },
  "language_info": {
   "codemirror_mode": {
    "name": "ipython",
    "version": 3
   },
   "file_extension": ".py",
   "mimetype": "text/x-python",
   "name": "python",
   "nbconvert_exporter": "python",
   "pygments_lexer": "ipython3",
   "version": "3.6.4"
  }
 },
 "nbformat": 4,
 "nbformat_minor": 2
}
