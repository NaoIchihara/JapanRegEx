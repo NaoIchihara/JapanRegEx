{
 "cells": [
  {
   "cell_type": "markdown",
   "metadata": {},
   "source": [
    "# Workshop 1 <br> Gaining Clinical Insight from Text\n",
    "## 1.3 - Pattern Matching in MIMIC-III\n",
    "\n",
    "In this section, we will look at a few examples of what free text notes are line in MIMIC-III and use some pattern matching.  We will be using SQLite in Firefox ESR.  Please refer to **0.0 - Installation of SQLite** for installation instructions.\n",
    "<br>\n",
    "Of note, different versions of SQL may have slightly different syntax.\n",
    "<br>\n",
    "Refer to the following websie for more information:\n",
    "https://www.postgresql.org/docs/9.1/static/functions-string.html"
   ]
  },
  {
   "attachments": {},
   "cell_type": "markdown",
   "metadata": {},
   "source": [
    "## Looking at Regular Expressions in MIMIC-III\n",
    "In this section we will use SQL to practice regular expressions.  Of note, SQLite does not have built in Regular Expressions, so what we will be using are based off of user defined functions that were written for this workshop.  If you use PostgreSQL, you can find inforation here:<br>\n",
    "https://www.postgresql.org/docs/9.3/static/functions-matching.html<br>\n",
    "https://www.postgresql.org/docs/9.1/static/functions-string.html\n",
    "\n",
    "In the past, we have used LIKE to do simple matching. Lets take a look at this by using the microbiologyevents table.\n",
    "\n",
    "First lets take a look at all the distinct microorganisms. Clic on the **f(x)** icon. Select **Execute SQL** and type the following text into the window.  When you are finished, click **Run SQL**\n",
    "```SQL\n",
    "SELECT distinct micro.org_name\n",
    "FROM microbiologyevents as micro\n",
    "ORDER by org_name\n",
    "```\n",
    "Organism|\n",
    "---|\n",
    "\"ALPHA STREPTOCOCCI\"|\n",
    "\"BETA STREPTOCOCCUS GROUP B\"|\n",
    "\"BURKHOLDERIA (PSEUDOMONAS) CEPACIA\"|\n",
    "\"PRESUMPTIVE PEPTOSTREPTOCOCCUS SPECIES\"|\n",
    "\"PSEUDOMONAS AERUGINOSA\"|\n",
    "\"STREPTOCOCCUS PNEUMONIAE\"|\n",
    "\"VIRIDANS STREPTOCOCCI\"|\n",
    "\n",
    "We can use LIKE to find all the types of of STREP in this table.\n",
    "<br>    \n",
    "```SQL\n",
    "SELECT distinct micro.org_name\n",
    "FROM microbiologyevents as micro\n",
    "WHERE org_name like '%STREP%' or \n",
    "ORDER by org_name\n",
    "```\n",
    "<BR>\n",
    "```SQL\n",
    "SELECT *\n",
    "FROM microbiologyevents as micro\n",
    "WHERE regexp_match('.*ALPHA.*|.*BETA.*', org_name)\n",
    "ORDER by org_name\n",
    "```\n",
    "<img src=\"images/query_like.jpg\" alt=\"Version\"  style=\"width:600px;\"/>\n"
   ]
  },
  {
   "cell_type": "markdown",
   "metadata": {},
   "source": [
    "Now lets take a look at echo files.  Here is an example of the text on the top of each echo file.  If you want to take a closer look (and this is encouraged! you should know what your text is like before you analyze it), you can highlight the rows you are interested in, copy as CSV format, and past it into a text editor.\n",
    "\n",
    "```\n",
    "PATIENT/TEST INFORMATION:\n",
    "Indication: Endocarditis. Left ventricular function. Valvular heart disease.\n",
    "Height: (in) 64\n",
    "Weight (lb): 170\n",
    "BSA (m2): 1.83 m2\n",
    "BP (mm Hg): 92/61\n",
    "HR (bpm): 106\n",
    "Status: Inpatient\n",
    "Date/Time: [**2144-2-11**] at 12:07\n",
    "Test: TTE (Complete)\n",
    "Doppler: Full Doppler and color Doppler\n",
    "Contrast: None\n",
    "Technical Quality: Adequate\n",
    "```\n",
    "\n",
    "    \n",
    "<BR>\n",
    "You can use this method to pull out useful information from files.  Lets say you want to get all the heights, you can do a command like this:\n",
    "    \n",
    "```SQL\n",
    "SELECT *\n",
    ", REGEXP_VAL('Height: \\(in\\) (.*?)\\n',text) as height\n",
    "FROM  echo\n",
    "```\n",
    "\n",
    "Congratulations! You have just structured free text!"
   ]
  },
  {
   "cell_type": "markdown",
   "metadata": {},
   "source": [
    "Exercise 3\n",
    "1. How do you find the weight?\n",
    "2. How do you find the indication?"
   ]
  },
  {
   "cell_type": "markdown",
   "metadata": {},
   "source": [
    "Click for answer to 1.\n",
    "\n",
    "<input id=\"height\" name=\"answer\" type=\"hidden\" \n",
    "value=\"\n",
    "\n",
    "SELECT *\n",
    ", REGEXP_VAL('Weight \\(lb\\): (.*?)\\n',text) as weight\n",
    "FROM  echo\n",
    "\">"
   ]
  },
  {
   "cell_type": "markdown",
   "metadata": {},
   "source": [
    "Click for answer to 2.\n",
    "\n",
    "<input id=\"height\" name=\"answer\" type=\"hidden\" \n",
    "value=\"\n",
    "\n",
    "SELECT *\n",
    ", REGEXP_VAL('Indication: (.*?)\\n',text) as Indication\n",
    "FROM  echo\n",
    "\n",
    "\">"
   ]
  },
  {
   "cell_type": "markdown",
   "metadata": {},
   "source": [
    "## Regular Expression Substitution\n",
    "<BR>\n",
    "You can use regular expressions substitute one word/part-of-a-word for something else.  Below is the syntax for creating an additional column that is the same as org_name except all the instances are Streptococcus are now SC.\n",
    "```SQL\n",
    "select *\n",
    "    , regexp_replace(org_name, 'STREPTOCOCCUS', 'SC', 'i') as ABBREVIATION\n",
    "from microbiologyevents\n",
    "```\n",
    "<BR>\n",
    "Instead of just replacing the word Streptococcus with SC, you can replace the entire line with SC if you want.  (The . means any character and the * means there is any character 0 to infinity number of times.)\n",
    "```SQL\n",
    "select *, regexp_replace(org_name, '.*STREPTOCOCCUS.*', 'SC', 'i') as ABBREVIATION\n",
    "from microbiologyevents\n",
    "```\n"
   ]
  },
  {
   "cell_type": "markdown",
   "metadata": {},
   "source": [
    "Now we will take a look at the ECG notes table, or electrocardiogram, which analyzes the electrical activity of the heart.  Take a look at what a sample report looks like.  The text portion looks like this:\n",
    "```\n",
    "Sinus rhythm. Left ventricular hypertrophy with ST-T wave changes. Compared to\n",
    "the previous tracing of [**2124-12-7**] ST segment depressions and T wave inversions\n",
    "persist in leads I and aVL. ST segment depressions is again recorded in\n",
    "leads V2-V3. The rate has slowed. Otherwise, no diagnostic interim change.\n",
    "TRACING #1\n",
    "```\n",
    "\n",
    "The formatting of the text show that some entries do not have any periods, but each sentence is separated by linebreaks (newlines or enters):\n",
    "```\n",
    "Sinus rhythm\n",
    "Left bundle branch block\n",
    "Since previous tracing of [**2147-9-9**], atrial ectopy absent\n",
    "```\n",
    "Some text elements items have sentences with periods. There are sometimes with extra line breaks (newlines or enters):\n",
    "```\n",
    "Sinus rhythm with an atrial premature beat.  Short P-R interval.  Leftward\n",
    "axis.  Intraventricular conduction delay of left bundle-branch block type.\n",
    "Since the previous tracing of [**2147-9-23**] the rate is faster.  The Q-T interval is\n",
    "shorter but is still prolonged.\n",
    "```\n",
    "In order to make the text more uniform we can do the following:\n",
    "\n",
    "1. If the text element has no periods, we can replace the line breaks (newlines) with periods:\n",
    "    ```\n",
    "    Sinus rhythm.  Left bundle branch block. Since previous tracing of [**2147-9-9**], atrial ectopy absent   \n",
    "    ```\n",
    "2. If the text element has periods, it has extra line breaks. We can get rid of all line breaks (newlines)\n",
    "    ```\n",
    "    Sinus rhythm with an atrial premature beat. Short P-R interval. Leftward axis. Intraventricular conduction delay of left bundle-branch block type. Since the previous tracing of [2147-9-23] the rate is faster. The Q-T interval is shorter but is still prolonged.\n",
    "    ```\n",
    "\n",
    "You can do the above with something like this, which replaces line breaks (newlines or enters) listed as '\\n' with blank space or a period:\n",
    "\n",
    "```SQL\n",
    "SELECT text as before, \n",
    "    (SELECT CASE WHEN ntext ~ '.*\\..*' \n",
    "     THEN  REGEXP_REPLACE(ne.text, '\\n', ' ', 'g') \n",
    "     ELSE REGEXP_REPLACE(ne.text, '\\n', '.', 'g')\n",
    "     END as after)\n",
    "FROM  ECG\n",
    "```\n",
    "Pay attention to the text before and after this is run.\n",
    "\n",
    "Lets say we want to find reports that were clearly marked as sinus rhythm.  This means that the electrical activity of the heart originals from the sinus node (where it should come from).  Sinus rhythm includes sinus tacycardia (which means a fast heartbeat that originates at the sinus node).  We also want to identify patients with atrial fibrillation, which means they have an abnormal heart rhythm where.\n",
    "\n",
    "```SQL\n",
    "\n",
    "```"
   ]
  },
  {
   "cell_type": "code",
   "execution_count": null,
   "metadata": {},
   "outputs": [],
   "source": []
  },
  {
   "cell_type": "code",
   "execution_count": null,
   "metadata": {},
   "outputs": [],
   "source": []
  },
  {
   "cell_type": "code",
   "execution_count": null,
   "metadata": {},
   "outputs": [],
   "source": []
  }
 ],
 "metadata": {
  "kernelspec": {
   "display_name": "Python 3",
   "language": "python",
   "name": "python3"
  },
  "language_info": {
   "codemirror_mode": {
    "name": "ipython",
    "version": 3
   },
   "file_extension": ".py",
   "mimetype": "text/x-python",
   "name": "python",
   "nbconvert_exporter": "python",
   "pygments_lexer": "ipython3",
   "version": "3.6.4"
  }
 },
 "nbformat": 4,
 "nbformat_minor": 2
}
