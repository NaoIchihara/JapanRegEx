{
 "cells": [
  {
   "cell_type": "markdown",
   "metadata": {},
   "source": [
    "# Workshop 1 <br> Gaining Clinical Insight from Text\n",
    "## 1.3 - Pattern Matching in MIMIC-III\n",
    "\n",
    "In this section, we will look at a few examples of what free text notes are line in MIMIC-III and use some pattern matching.  We will be using SQLite in Firefox ESR.  Please refer to **0.0 - Installation of SQLite** for installation instructions.\n",
    "<br>\n",
    "Of note, different versions of SQL may have slightly different syntax.\n",
    "<br>\n",
    "Refer to the following websie for more information:\n",
    "https://www.postgresql.org/docs/9.1/static/functions-string.html"
   ]
  },
  {
   "cell_type": "markdown",
   "metadata": {},
   "source": [
    "## Looking at regexp_matches in MIMIC-III\n",
    "In this section we will learn how to use:\n",
    "- regexp_matches(string text, pattern text [, flags text])"
   ]
  },
  {
   "cell_type": "code",
   "execution_count": null,
   "metadata": {},
   "outputs": [],
   "source": []
  }
 ],
 "metadata": {
  "kernelspec": {
   "display_name": "Python 3",
   "language": "python",
   "name": "python3"
  },
  "language_info": {
   "codemirror_mode": {
    "name": "ipython",
    "version": 3
   },
   "file_extension": ".py",
   "mimetype": "text/x-python",
   "name": "python",
   "nbconvert_exporter": "python",
   "pygments_lexer": "ipython3",
   "version": "3.6.4"
  }
 },
 "nbformat": 4,
 "nbformat_minor": 2
}
