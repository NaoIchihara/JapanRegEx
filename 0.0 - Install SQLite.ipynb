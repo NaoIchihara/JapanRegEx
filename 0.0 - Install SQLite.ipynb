{
 "cells": [
  {
   "cell_type": "markdown",
   "metadata": {},
   "source": [
    "# 0.0 - Installation of SQLite\n",
    "### Christina Chen <br>2/2018\n",
    "This document will go through the steps of how to install the SQLite add-on to Firefox.\n",
    "<br><br><br>"
   ]
  },
  {
   "cell_type": "markdown",
   "metadata": {},
   "source": [
    "1. If you do not have Firefox, download the ESR version of it:<br>\n",
    "https://www.mozilla.org/en-US/firefox/organizations/\n",
    "\n",
    " * If you already have Firefox, check which version you have, \n",
    " if it is quantum, please update to the ESR version via the website above (SQLite is not compatible with Quantum)\n",
    "\n",
    " * To check what version, on the menu please click **Help** and select **About Firefox**:<br>\n",
    "    <p align = \"left\">\n",
    "    <img src=\"images/mozilla_version.jpg\" alt=\"Version\"  style=\"width:600px;\"/>\n",
    "    </p>\n",
    "    <br><br><br>\n",
    "2. Install the SQLite Add-on:\n",
    " * Restart will be required <br>\n",
    "    https://addons.mozilla.org/en-US/firefox/addon/sqlite-manager/\n",
    "    <br><br>\n",
    "    <p align = \"left\">\n",
    "    <img src=\"images/SQLite_add_on.jpg\" alt=\"SQLite\" style=\"width:600px;\"/>\n",
    "    <p>\n",
    "    <br><br><br>\n",
    "3. After restarting, open up SQLite Manager on the Firefox menu by clicking **Tools** and selecting **SQLite Manager**:\n",
    "    <img src=\"images/Open_Manager.jpg\" alt=\"OpenManager\" style=\"width:500px;\"/>\n",
    "<br><br><br>\n",
    "4. Open up a database by clicking on the folder button and selecting the \\*.sqlite file.\n",
    "    <img src=\"images/Open_database.jpg\" alt=\"OpenDB\"  style=\"width:500px;\"/>\n",
    "\n"
   ]
  },
  {
   "cell_type": "markdown",
   "metadata": {},
   "source": [
    "\n"
   ]
  }
 ],
 "metadata": {
  "kernelspec": {
   "display_name": "Python 3",
   "language": "python",
   "name": "python3"
  },
  "language_info": {
   "codemirror_mode": {
    "name": "ipython",
    "version": 3
   },
   "file_extension": ".py",
   "mimetype": "text/x-python",
   "name": "python",
   "nbconvert_exporter": "python",
   "pygments_lexer": "ipython3",
   "version": "3.6.4"
  }
 },
 "nbformat": 4,
 "nbformat_minor": 2
}
