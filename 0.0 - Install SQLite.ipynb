{
 "cells": [
  {
   "cell_type": "markdown",
   "metadata": {},
   "source": [
    "# 0.0 - Installation of SQLite\n",
    "### Christina Chen <br>2/2018\n",
    "This document will go through the steps of how to install the SQLite add-on to Firefox.\n",
    "<br><br><br>"
   ]
  },
  {
   "cell_type": "markdown",
   "metadata": {},
   "source": [
    "1. If you do not have Firefox, download the ESR version of it:<br>\n",
    "https://www.mozilla.org/en-US/firefox/organizations/\n",
    "\n",
    " * If you already have Firefox, check which version you have, \n",
    " if it is quantum, please update to the ESR version via the website above (SQLite is not compatible with Quantum)\n",
    "\n",
    " * To check what version, on the menu please click **Help** and select **About Firefox**:<br>\n",
    "    <p align = \"left\">\n",
    "    <img src=\"images/mozilla_version.jpg\" alt=\"Version\"  style=\"width:600px;\"/>\n",
    "    </p>\n",
    "    <br><br><br>\n",
    "2. Install the SQLite Add-on:\n",
    " * Restart will be required <br>\n",
    "    https://addons.mozilla.org/en-US/firefox/addon/sqlite-manager/\n",
    "    <br><br>\n",
    "    <p align = \"left\">\n",
    "    <img src=\"images/SQLite_add_on.jpg\" alt=\"SQLite\" style=\"width:600px;\"/>\n",
    "    <p>\n",
    "    <br><br><br>\n",
    "3. After restarting, open up SQLite Manager on the Firefox menu by clicking **Tools** and selecting **SQLite Manager**:\n",
    "    <img src=\"images/Open_Manager.jpg\" alt=\"OpenManager\" style=\"width:500px;\"/>\n",
    "<br><br><br>\n",
    "4. Open up a database by clicking on the folder button and selecting the \\*.sqlite file.\n",
    "    <img src=\"images/Open_database.jpg\" alt=\"OpenDB\"  style=\"width:500px;\"/>\n",
    "<br><br><br>\n",
    "5. Add user defined functions if not already there:\n",
    "     <img src=\"images/create_udf.jpg\" alt=\"OpenDB\"  style=\"width:500px;\"/>\n"
   ]
  },
  {
   "cell_type": "markdown",
   "metadata": {},
   "source": [
    "\n",
    "### User Defined Functions\n",
    "**Function Name:** RegExp<BR>\n",
    "**Number of Arguments:** 2\n",
    "\n",
    "```SQL\n",
    "var regExp = new RegExp(aValues.getString(0));\n",
    "var strVal = new String(aValues.getString(1));\n",
    "if (strVal.match(regExp)) return 1;\n",
    "else return 0;\n",
    "```\n",
    "**Function Name:** RegExp_VAL<BR>\n",
    "**Number of Arguments:** 3\n",
    "\n",
    "```SQL\n",
    "var regExp = new RegExp(aValues.getString(0));\n",
    "var strVal = new String(aValues.getString(1));\n",
    "var arr = strVal.match(regExp);\n",
    "\n",
    "if (arr.length  >1){\n",
    "return arr[1];\n",
    "} else{\n",
    "return \"\";\n",
    "}\n",
    "```\n",
    "**Function Name:** RegExp_Match<BR>\n",
    "**Number of Arguments:** 2\n",
    "```SQL\n",
    "var regExp = new RegExp(aValues.getString(0));\n",
    "var strVal = new String(aValues.getString(1));\n",
    "if (strVal.match(regExp)) {\n",
    "    return 1;\n",
    "}\n",
    "else {\n",
    "    return 0;\n",
    "}\n",
    "```\n",
    "**Function Name:** RegExp_Replace<BR>\n",
    "**Number of Arguments:** 4\n",
    "```SQL\n",
    "// exemple : SELECT regexp_replace('FOOBAR','o+','a','gi')\n",
    "        var input      = new String(aValues.getString(0));\n",
    "        var regex      = new String(aValues.getString(1));\n",
    "        var substitute = new String(aValues.getString(2));\n",
    "        var flags      = new String(aValues.getString(3));\n",
    "\n",
    "        return input.replace(new RegExp(regex,flags), substitute);\n",
    "``` "
   ]
  },
  {
   "cell_type": "markdown",
   "metadata": {},
   "source": [
    "\n"
   ]
  }
 ],
 "metadata": {
  "kernelspec": {
   "display_name": "Python 3",
   "language": "python",
   "name": "python3"
  },
  "language_info": {
   "codemirror_mode": {
    "name": "ipython",
    "version": 3
   },
   "file_extension": ".py",
   "mimetype": "text/x-python",
   "name": "python",
   "nbconvert_exporter": "python",
   "pygments_lexer": "ipython3",
   "version": "3.6.4"
  }
 },
 "nbformat": 4,
 "nbformat_minor": 2
}
