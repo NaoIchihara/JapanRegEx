{
 "cells": [
  {
   "attachments": {},
   "cell_type": "markdown",
   "metadata": {},
   "source": [
    "# Workshop 1 <br> Gaining Clinical Insight from Text\n",
    "### Christina Chen and \\*\\*++++\\*\\*  <br> 2/2018\n",
    "## Objectives\n",
    "### Participants should leave this workshop with ability to:\n",
    "* Understand the difference between structured and unstructured data\n",
    "* Understand what regular expression means and the basics of how they are done\n",
    "* Apply regular expressions to data form MIMIC-III\n",
    "* Get an idea for more complicated concepts we can extract from data"
   ]
  },
  {
   "cell_type": "markdown",
   "metadata": {},
   "source": [
    "## What is Structured Data?\n",
    "\n"
   ]
  },
  {
   "cell_type": "code",
   "execution_count": null,
   "metadata": {},
   "outputs": [],
   "source": []
  }
 ],
 "metadata": {
  "kernelspec": {
   "display_name": "Python 3",
   "language": "python",
   "name": "python3"
  },
  "language_info": {
   "codemirror_mode": {
    "name": "ipython",
    "version": 3
   },
   "file_extension": ".py",
   "mimetype": "text/x-python",
   "name": "python",
   "nbconvert_exporter": "python",
   "pygments_lexer": "ipython3",
   "version": "3.6.4"
  }
 },
 "nbformat": 4,
 "nbformat_minor": 2
}
