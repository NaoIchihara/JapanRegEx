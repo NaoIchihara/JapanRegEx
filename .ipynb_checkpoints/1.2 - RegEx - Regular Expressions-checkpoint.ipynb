{
 "cells": [
  {
   "cell_type": "markdown",
   "metadata": {},
   "source": [
    "# Workshop 1 <br> Gaining Clinical Insight from Text\n",
    "## 0.2 - RegEx - Regular Expressions\n",
    "\n",
    "In this section, we will practice some simple regular expressions."
   ]
  },
  {
   "cell_type": "markdown",
   "metadata": {},
   "source": [
    "### What is a regular expression?\n",
    "- A regular expression (RegEx) is a sequence of characters that describe a search patterns.  \n",
    "- This can be implemented in many different languages. The specific syntax used in each language may vary, but the concepts are the same! \n",
    "- Some text processing operators are specific to a particular database management system. We will present operators that respect the SQL ANSI standard.\n",
    "\n",
    "- Please refer to this for some basic regular expression definitions: <br>\n",
    "http://web.mit.edu/hackl/www/lab/turkshop/slides/regex-cheatsheet.pdf"
   ]
  },
  {
   "cell_type": "markdown",
   "metadata": {},
   "source": [
    "## Pattern matching\n",
    "\n",
    "To visualize how regular expressions work, we will use the following website: <br>\n",
    "https://regex101.com/\n",
    "<br>\n",
    "Paste the following text into the *Test String* search box:\n",
    "<br>\n",
    "```\n",
    "LISINOpril 40 MG PO Daily\n",
    "captopril 6.25 MG PO TID\n",
    "I take lisinopril 40 mg PO Daily\n",
    "april\n",
    "pril\n",
    "```\n",
    "<br>\n",
    "Try typing the following regular expressions into the search boxe on the top of the page:"
   ]
  },
  {
   "cell_type": "markdown",
   "metadata": {},
   "source": [
    "Pattern | Meaning\n",
    "--------|--------\n",
    ". (there is a period there)|\tthis catches all characters (each one is a different color)\n",
    "pril |\tthis only catches the phrase pril\n",
    ".\\*pril |\tthis catches 0 or more characters before pril\n",
    "[a-z]\\*pril |\tthis catches 0 or more characters, <br> lower case, but does not match spaces or numbers etc\n",
    "[abcdefghijklmnopqrstuvwxyz]\\*pril |\tnotice that everything inside of the <br> bracket is a character that we want to catch, <br>it has the same results as the pattern above\n",
    "[aA-zZ]+pril| this catches words with one or more character prior to ending in pril\n",
    "[aA-zZ]{2,} | pril\tthis catches words with 2 or more characters prir to ending in pril\n",
    "lisinopril&#124;losartan |\tthis catches lisinopril or losartan\n",
    "\\d\t| this catches numerical digits\n",
    "\\d{2} |\tthis catches two numberical digits\n",
    "\n",
    "<br><br>\n",
    "\n",
    "\n",
    "<img src=\"images/regex101_demo.png\" alt=\"Demo\" style=\"width:700px;\"/>\n"
   ]
  },
  {
   "cell_type": "markdown",
   "metadata": {},
   "source": [
    "## Exercise 1\n",
    "Paste the following into the *Text String* box:\n",
    "```\n",
    "Sally takes Metoproplol once a day.\n",
    "Bobby likes propranolol because it makes my hands less shakey.\n",
    "Daniel was switched from labetalol to carvedilol.\n",
    "Another name for carvedilol is coreg.\n",
    "```\n",
    "1. This text has multiple beta blockers.  How do I find all instances of metoprolol or carevedilol? (these are two beta blockers, used for people with cardiac problems and hypertension)\n",
    "2. How do I find all beta blockers (medications that end in “lol” and coreg)?"
   ]
  },
  {
   "cell_type": "markdown",
   "metadata": {},
   "source": [
    "Click here for the answer:\n",
    "<input id=\"prodId\" name=\"answer\" type=\"hidden\" value=\"[aA-zZ]*lol|coreg\">"
   ]
  },
  {
   "cell_type": "markdown",
   "metadata": {},
   "source": [
    "## Exercise 2\n",
    "Paste the following into the *Text String* box:\n",
    "```\n",
    "Indication: Left ventricular function. Pericardial effusion. Right ventricular function.\n",
    "Height: (in) 71\n",
    "Weight (lb): 190\n",
    "BSA (m2): 2.07 m2\n",
    "BP (mm Hg): 108/56\n",
    "HR (bpm): 84\n",
    "Status: Inpatient\n",
    "Date/Time: [**2150-4-18**] at 12:36\n",
    "Test: Portable TTE (Complete)\n",
    "Doppler: Full Doppler and color Doppler\n",
    "Contrast: None\n",
    "Technical Quality: Adequate\n",
    "```\n",
    "1. How do I find the blood pressure?\n"
   ]
  },
  {
   "cell_type": "markdown",
   "metadata": {},
   "source": [
    "Click Here for the answer:\n",
    "<input id=\"height\" name=\"answer\" type=\"hidden\" value=\"Height: \\(in\\) (.*?)\\n\">\n",
    "\n",
    "    "
   ]
  },
  {
   "cell_type": "markdown",
   "metadata": {},
   "source": [
    "2. How do I find the weight?\n"
   ]
  },
  {
   "cell_type": "markdown",
   "metadata": {},
   "source": [
    "Click Here for the answer:\n",
    "<input id=\"weight\" name=\"answer\" type=\"hidden\" value=\"Weight \\(lb\\): (.*?)\\n\">\n"
   ]
  }
 ],
 "metadata": {
  "kernelspec": {
   "display_name": "Python 3",
   "language": "python",
   "name": "python3"
  },
  "language_info": {
   "codemirror_mode": {
    "name": "ipython",
    "version": 3
   },
   "file_extension": ".py",
   "mimetype": "text/x-python",
   "name": "python",
   "nbconvert_exporter": "python",
   "pygments_lexer": "ipython3",
   "version": "3.6.4"
  }
 },
 "nbformat": 4,
 "nbformat_minor": 2
}
